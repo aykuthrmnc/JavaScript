{
 "cells": [
  {
   "cell_type": "code",
   "execution_count": 11,
   "id": "e285afd8-ddf7-479f-b456-be81d08ac058",
   "metadata": {},
   "outputs": [],
   "source": [
    "import random\n",
    "import string\n",
    "import csv\n",
    "import json"
   ]
  },
  {
   "cell_type": "code",
   "execution_count": 12,
   "id": "7c71d3b1-828a-4f3b-8073-816881d772fd",
   "metadata": {},
   "outputs": [],
   "source": [
    "# Ürün adları\n",
    "product_names = ['Laptop', 'Telefon', 'Tablet', 'Televizyon', 'Kulaklık', 'Klavye', 'Mouse', 'Monitör', 'Hoparlör',\n",
    "                 'Kamera', 'Powerbank', 'Harici Disk', 'Bluetooth Kulaklık', 'Oyun Konsolu', 'Akıllı Saat', 'Drone']"
   ]
  },
  {
   "cell_type": "code",
   "execution_count": 13,
   "id": "1c5dbf6b-f1a7-429b-9a66-13ee05e452b4",
   "metadata": {},
   "outputs": [],
   "source": [
    "# Markalar\n",
    "brands = ['Samsung', 'Apple', 'Huawei', 'Xiaomi', 'Lenovo', 'ASUS', 'Acer', 'Dell', 'HP', 'Sony', 'LG', 'Philips']"
   ]
  },
  {
   "cell_type": "code",
   "execution_count": 14,
   "id": "93b53009-1e26-4b38-9299-2186d318e299",
   "metadata": {},
   "outputs": [],
   "source": [
    "# Fiyat aralığı\n",
    "min_price = 100\n",
    "max_price = 10000"
   ]
  },
  {
   "cell_type": "code",
   "execution_count": 15,
   "id": "423651ea-a015-4b7e-abc9-0eb10573df8d",
   "metadata": {},
   "outputs": [],
   "source": [
    "# Ürün sayısı\n",
    "num_products = 500"
   ]
  },
  {
   "cell_type": "code",
   "execution_count": 16,
   "id": "ca6a50f3-68d7-4a82-a19d-03640cd16aef",
   "metadata": {},
   "outputs": [],
   "source": [
    "# Ürün verilerinin tutulacağı liste\n",
    "products = []"
   ]
  },
  {
   "cell_type": "code",
   "execution_count": 17,
   "id": "2b473423-ff9f-47d2-977d-39bd2bea755c",
   "metadata": {},
   "outputs": [],
   "source": [
    "# Ürün ID'lerini oluşturma fonksiyonu\n",
    "def generate_product_id():\n",
    "    return ''.join(random.choices(string.ascii_uppercase + string.digits, k=10))"
   ]
  },
  {
   "cell_type": "code",
   "execution_count": 18,
   "id": "4be077c6-558a-476f-8aef-ed7e97043fe9",
   "metadata": {},
   "outputs": [],
   "source": [
    "# Ürün adları ve markalarından rastgele ürünler oluşturma döngüsü\n",
    "for i in range(num_products):\n",
    "    product_name = random.choice(product_names)\n",
    "    brand = random.choice(brands)\n",
    "    price = round(random.uniform(min_price, max_price), 2)\n",
    "    product_id = generate_product_id()\n",
    "\n",
    "    # Oluşturulan ürünün verilerini ürün listesine ekleme\n",
    "    products.append([product_id, product_name, brand, price])"
   ]
  },
  {
   "cell_type": "code",
   "execution_count": 10,
   "id": "9868bec0-9fc1-4e55-9f80-4bd6478258f7",
   "metadata": {},
   "outputs": [
    {
     "name": "stdout",
     "output_type": "stream",
     "text": [
      "Ürün verileri başarıyla oluşturuldu ve CSV dosyasına yazıldı.\n"
     ]
    }
   ],
   "source": [
    "# Ürün verilerini CSV dosyasına yazma\n",
    "with open('urunler.csv', mode='w', newline='', encoding='utf-8') as file:\n",
    "    writer = csv.writer(file)\n",
    "    writer.writerow(['ID', 'Ürün Adı', 'Marka', 'Fiyat'])\n",
    "    for product in products:\n",
    "        writer.writerow(product)\n",
    "\n",
    "print('Ürün verileri başarıyla oluşturuldu ve CSV dosyasına yazıldı.')"
   ]
  },
  {
   "cell_type": "code",
   "execution_count": 21,
   "id": "3f359a1f-2c72-4d9a-abe6-0b1617bc24e9",
   "metadata": {},
   "outputs": [
    {
     "name": "stdout",
     "output_type": "stream",
     "text": [
      "Ürün verileri başarıyla oluşturuldu ve JSON dosyasına yazıldı.\n"
     ]
    }
   ],
   "source": [
    "# Ürün verilerini JSON olarak oluşturma\n",
    "with open('urunler.json', 'w', encoding='utf-8') as file:\n",
    "    json.dump(products, file, ensure_ascii=False, indent=4)\n",
    "    \n",
    "print('Ürün verileri başarıyla oluşturuldu ve JSON dosyasına yazıldı.')"
   ]
  },
  {
   "cell_type": "code",
   "execution_count": null,
   "id": "b3e03ed2-a4ac-4652-9c66-17b7c9c261e5",
   "metadata": {},
   "outputs": [],
   "source": []
  }
 ],
 "metadata": {
  "kernelspec": {
   "display_name": "Python 3 (ipykernel)",
   "language": "python",
   "name": "python3"
  },
  "language_info": {
   "codemirror_mode": {
    "name": "ipython",
    "version": 3
   },
   "file_extension": ".py",
   "mimetype": "text/x-python",
   "name": "python",
   "nbconvert_exporter": "python",
   "pygments_lexer": "ipython3",
   "version": "3.11.2"
  }
 },
 "nbformat": 4,
 "nbformat_minor": 5
}
